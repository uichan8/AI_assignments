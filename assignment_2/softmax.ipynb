{
 "cells": [
  {
   "cell_type": "markdown",
   "metadata": {
    "tags": [
     "pdf-title"
    ]
   },
   "source": [
    "# Softmax 연습문제\n",
    "\n",
    "아래의 노트북 파일의 각 셀에 해당하는 문제의 답을, 외부 파일에 구현해야 하는 코딩까지 포함하여, 도출하시오.\n",
    "\n",
    "softmax 연습문제와 유사하게 본 연습문제에서 여러분은 다음의 사항을 완수해야 함:\n",
    "\n",
    "- Softmax loss function을 계산하는 Numpy 기반 완전 벡터화된fully-vectorized 함수를 구현함\n",
    "- Softmax loss function의 완전 벡터화된 함수에 대응되도록 analytic gradient를 계산하는 완전 벡터화된 함수를 구현함\n",
    "- numerical gradient를 계산하는 함수를 함께 구현하여, 앞서 구현한 analytic gradient의 유효성 여부를 check함\n",
    "- Validation set을 이용하여 hyperparameter들, 즉 learning rate 및 regularization strength의 최적값을 도출함\n",
    "- SGD를 이용하여 구현한 loss function의 최적화함\n",
    "- 학습 결과로 도출된 weight parameter들을 시각화함"
   ]
  },
  {
   "cell_type": "markdown",
   "metadata": {},
   "source": [
    "### 셀1: 본 노트북의 환경 설정을 위한 코드\n",
    "\n",
    "필요한 패키지 임포트, 그래프plot 크기 설정, 영상 config 설정 등 수행하며, 별도의 코딩 없이 수행만 시키면 됨."
   ]
  },
  {
   "cell_type": "code",
   "execution_count": 1,
   "metadata": {
    "tags": [
     "pdf-ignore"
    ]
   },
   "outputs": [],
   "source": [
    "import random\n",
    "import numpy as np\n",
    "from cs231n.data_utils import load_CIFAR10\n",
    "import matplotlib.pyplot as plt\n",
    "\n",
    "%matplotlib inline\n",
    "plt.rcParams['figure.figsize'] = (10.0, 8.0) # set default size of plots\n",
    "plt.rcParams['image.interpolation'] = 'nearest'\n",
    "plt.rcParams['image.cmap'] = 'gray'\n",
    "\n",
    "# for auto-reloading extenrnal modules\n",
    "# see http://stackoverflow.com/questions/1907993/autoreload-of-modules-in-ipython\n",
    "%load_ext autoreload\n",
    "%autoreload 2"
   ]
  },
  {
   "cell_type": "markdown",
   "metadata": {},
   "source": [
    "### 셀2: CIFAR-10 Data Loading and Preprocessing\n",
    "\n",
    "다음 셀에서는 모두 데이터 불러오기 및 전처리 등을 수행하며, 역시 별도의 코딩 없이 수행만 시키면 됨."
   ]
  },
  {
   "cell_type": "code",
   "execution_count": 2,
   "metadata": {
    "tags": [
     "pdf-ignore"
    ]
   },
   "outputs": [
    {
     "name": "stdout",
     "output_type": "stream",
     "text": [
      "Train data shape:  (49000, 3073)\n",
      "Train labels shape:  (49000,)\n",
      "Validation data shape:  (1000, 3073)\n",
      "Validation labels shape:  (1000,)\n",
      "Test data shape:  (1000, 3073)\n",
      "Test labels shape:  (1000,)\n",
      "dev data shape:  (500, 3073)\n",
      "dev labels shape:  (500,)\n"
     ]
    }
   ],
   "source": [
    "def get_CIFAR10_data(num_training=49000, num_validation=1000, num_test=1000, num_dev=500):\n",
    "    \"\"\"\n",
    "    Load the CIFAR-10 dataset from disk and perform preprocessing to prepare\n",
    "    it for the linear classifier. These are the same steps as we used for the\n",
    "    softmax, but condensed to a single function.  \n",
    "    \"\"\"\n",
    "    # Load the raw CIFAR-10 data\n",
    "    cifar10_dir = 'cs231n/datasets/cifar-10-batches-py'\n",
    "    \n",
    "    # Cleaning up variables to prevent loading data multiple times (which may cause memory issue)\n",
    "    try:\n",
    "       del X_train, y_train\n",
    "       del X_test, y_test\n",
    "       print('Clear previously loaded data.')\n",
    "    except:\n",
    "       pass\n",
    "\n",
    "    X_train, y_train, X_test, y_test = load_CIFAR10(cifar10_dir)\n",
    "    \n",
    "    # subsample the data\n",
    "    mask = list(range(num_training, num_training + num_validation))\n",
    "    X_val = X_train[mask]\n",
    "    y_val = y_train[mask]\n",
    "    mask = list(range(num_training))\n",
    "    X_train = X_train[mask]\n",
    "    y_train = y_train[mask]\n",
    "    mask = list(range(num_test))\n",
    "    X_test = X_test[mask]\n",
    "    y_test = y_test[mask]\n",
    "    mask = np.random.choice(num_training, num_dev, replace=False)\n",
    "    X_dev = X_train[mask]\n",
    "    y_dev = y_train[mask]\n",
    "    \n",
    "    # Preprocessing: reshape the image data into rows\n",
    "    X_train = np.reshape(X_train, (X_train.shape[0], -1))\n",
    "    X_val = np.reshape(X_val, (X_val.shape[0], -1))\n",
    "    X_test = np.reshape(X_test, (X_test.shape[0], -1))\n",
    "    X_dev = np.reshape(X_dev, (X_dev.shape[0], -1))\n",
    "    \n",
    "    # Normalize the data: subtract the mean image\n",
    "    mean_image = np.mean(X_train, axis = 0)\n",
    "    X_train -= mean_image\n",
    "    X_val -= mean_image\n",
    "    X_test -= mean_image\n",
    "    X_dev -= mean_image\n",
    "    \n",
    "    # add bias dimension and transform into columns\n",
    "    X_train = np.hstack([X_train, np.ones((X_train.shape[0], 1))])\n",
    "    X_val = np.hstack([X_val, np.ones((X_val.shape[0], 1))])\n",
    "    X_test = np.hstack([X_test, np.ones((X_test.shape[0], 1))])\n",
    "    X_dev = np.hstack([X_dev, np.ones((X_dev.shape[0], 1))])\n",
    "    \n",
    "    return X_train, y_train, X_val, y_val, X_test, y_test, X_dev, y_dev\n",
    "\n",
    "\n",
    "# Invoke the above function to get our data.\n",
    "X_train, y_train, X_val, y_val, X_test, y_test, X_dev, y_dev = get_CIFAR10_data()\n",
    "print('Train data shape: ', X_train.shape)\n",
    "print('Train labels shape: ', y_train.shape)\n",
    "print('Validation data shape: ', X_val.shape)\n",
    "print('Validation labels shape: ', y_val.shape)\n",
    "print('Test data shape: ', X_test.shape)\n",
    "print('Test labels shape: ', y_test.shape)\n",
    "print('dev data shape: ', X_dev.shape)\n",
    "print('dev labels shape: ', y_dev.shape)"
   ]
  },
  {
   "cell_type": "markdown",
   "metadata": {},
   "source": [
    "## 셀3-8 Softmax Classifier\n",
    "\n",
    "다음 셀들은 Multiclass Softmax loss function을 기반으로 하는 linear classification과 관련되며, 여러분이 직접 코드를 구현하여야 함. 이때 모든 코드는 cs231n/classifiers/softmax.py 파일 내에 구현함."
   ]
  },
  {
   "cell_type": "markdown",
   "metadata": {},
   "source": [
    "### 셀3: Softmax loss naive 함수 내 Softmax loss 값 계산 및 gradient 계산 코드 구현\n",
    "\n",
    "**구현 문제 1**:\n",
    "`cs231n/classifiers/softmax.py` 파일 내 `softmax_loss_naive` 함수 내에 **Softmax loss 함수값을 계산하는 코드를 구현**하시오. 이때 과제2(상)에서 제공되었던 `softmax_loss_naive` 함수 내의 코드와 같이 for 문이 사용되는 nested loop 형식으로 구현하시오.\n",
    "그리고 아래 셀을 실행하여 구현된 코드를 수행하여 계산된 loss 값을 -log(0.1) 값과 비교하게 벡터 값을 제대로 계산했는지, 유효성을 검증하시오."
   ]
  },
  {
   "cell_type": "code",
   "execution_count": 13,
   "metadata": {},
   "outputs": [
    {
     "name": "stdout",
     "output_type": "stream",
     "text": [
      "loss: 2.381970\n",
      "sanity check: 2.302585\n"
     ]
    }
   ],
   "source": [
    "# First implement the naive softmax loss function with nested loops.\n",
    "# Open the file cs231n/classifiers/softmax.py and implement the\n",
    "# softmax_loss_naive function.\n",
    "\n",
    "from cs231n.classifiers.softmax import softmax_loss_naive\n",
    "import time\n",
    "\n",
    "# Generate a random softmax weight matrix and use it to compute the loss.\n",
    "W = np.random.randn(3073, 10) * 0.0001\n",
    "loss, grad = softmax_loss_naive(W, X_dev, y_dev, 0.0)\n",
    "\n",
    "# As a rough sanity check, our loss should be something close to -log(0.1).\n",
    "print('loss: %f' % loss)\n",
    "print('sanity check: %f' % (-np.log(0.1)))"
   ]
  },
  {
   "cell_type": "markdown",
   "metadata": {
    "tags": [
     "pdf-inline"
    ]
   },
   "source": [
    "**서술 문제 1**\n",
    "\n",
    "왜 loss 값이 -log(0.1) 값과 비슷해야 하는가? 간단하게 설명하시오.**\n",
    "\n",
    "$\\color{blue}{여러분의}$ $\\color{blue}{답:}$  \n",
    "-np.log는 cross entorpy 부분이라 함수안에 들어가는 부분은 softmax의 결과입니다.  \n",
    "softmax 결과는 마지막 레이어의 데이터를 토대로 확률로 변환시켜 줍니다.  \n",
    "이때 처음에는 완전 렌덤한값이 들어있는데 이 때 정확도는 1/class 수 이여야 합니다.  \n",
    "지금은 class가 10 이므로 0.1 되어야 합니다.  \n"
   ]
  },
  {
   "cell_type": "markdown",
   "metadata": {},
   "source": [
    "### 셀4: Softmax loss naive 함수 중 gradient 항 계산 코드 구현\n",
    "\n",
    "**구현 문제 2**: **Softmax SVM loss 함수의 해석적인 gradient 벡터를 직접 계산하여 도출하고, 이를 코드로 구현**하여 `softmax_loss_naive` 함수를 완성하시오.\n",
    "\n",
    "구현된 코드가 gradient 벡터 값을 제대로 계산했는지, 유효성을 검증하기 위해, 강의동영상에서 설명한 바와 같이 gradient를 수치적numerically으로도 근사하여 계산할 수 있음. 이를 수행하는 코드는 제공되는 코드의 `cs231n/gradient_check` 파일에 포함되어 있으며, 아래 셀에서는 이를 활용하도록 구현이 되어 있음."
   ]
  },
  {
   "cell_type": "code",
   "execution_count": 4,
   "metadata": {},
   "outputs": [
    {
     "name": "stdout",
     "output_type": "stream",
     "text": [
      "numerical: -2.612676 analytic: -2.612676, relative error: 3.497505e-09\n",
      "numerical: 0.339523 analytic: 0.339523, relative error: 3.013319e-08\n",
      "numerical: -2.504756 analytic: -2.504756, relative error: 8.415201e-09\n",
      "numerical: -2.380922 analytic: -2.380922, relative error: 2.772948e-09\n",
      "numerical: 3.128294 analytic: 3.128294, relative error: 4.011732e-10\n",
      "numerical: 1.635355 analytic: 1.635355, relative error: 1.876730e-08\n",
      "numerical: 2.670127 analytic: 2.670127, relative error: 4.182797e-09\n",
      "numerical: 2.912883 analytic: 2.912883, relative error: 1.154224e-08\n",
      "numerical: 0.294196 analytic: 0.294196, relative error: 6.556277e-08\n",
      "numerical: -4.846335 analytic: -4.846335, relative error: 2.414492e-09\n",
      "numerical: 1.759656 analytic: 1.759656, relative error: 1.291871e-08\n",
      "numerical: -3.015085 analytic: -3.015085, relative error: 6.436963e-09\n",
      "numerical: 1.486285 analytic: 1.486285, relative error: 3.131785e-08\n",
      "numerical: 0.415255 analytic: 0.415255, relative error: 2.935235e-08\n",
      "numerical: -0.735900 analytic: -0.735900, relative error: 3.596880e-08\n",
      "numerical: 1.621239 analytic: 1.621239, relative error: 2.403107e-08\n",
      "numerical: 1.231307 analytic: 1.231307, relative error: 1.821658e-08\n",
      "numerical: 3.992211 analytic: 3.992211, relative error: 1.028571e-08\n",
      "numerical: 2.161679 analytic: 2.161679, relative error: 3.251784e-08\n",
      "numerical: 0.076607 analytic: 0.076607, relative error: 1.847326e-07\n"
     ]
    }
   ],
   "source": [
    "# Complete the implementation of softmax_loss_naive and implement a (naive)\n",
    "# version of the gradient that uses nested loops.\n",
    "loss, grad = softmax_loss_naive(W, X_dev, y_dev, 0.0)\n",
    "\n",
    "# As we did for the SVM, use numeric gradient checking as a debugging tool.\n",
    "# The numeric gradient should be close to the analytic gradient.|\n",
    "from cs231n.gradient_check import grad_check_sparse\n",
    "f = lambda w: softmax_loss_naive(w, X_dev, y_dev, 0.0)[0]\n",
    "grad_numerical = grad_check_sparse(f, W, grad, 10)\n",
    "\n",
    "# similar to SVM case, do another gradient check with regularization\n",
    "loss, grad = softmax_loss_naive(W, X_dev, y_dev, 5e1)\n",
    "f = lambda w: softmax_loss_naive(w, X_dev, y_dev, 5e1)[0]\n",
    "grad_numerical = grad_check_sparse(f, W, grad, 10)"
   ]
  },
  {
   "cell_type": "markdown",
   "metadata": {},
   "source": [
    "### 셀5: Softmax 함수의 loss 및 gradient를 계산하는 vectorized 코드 구현\n",
    "\n",
    "**구현 문제 3**: 아래 셀에서 호출되는 **함수 `svm_loss_vectorized`의 내부 중 loss 값 및 gradient 벡터를 계산하는 부분을 구현하시오**. \n",
    "\n",
    "이때 Data 변수들이 Numpy의 패키지의 ndarray이기 때문에, Numpy 패키지에 내장된 vectorization 방식의 고속 연산 기능을 활용할 수 있음. 참고로 vectorization 기능을 적절하게 활용할 경우 `softmax_loss_naive`에 있었던 for문 loop는 필요가 없어지며, 계산 결과는 `softmax_loss_naive`와 동일하게 도출되지만 수행속도는 월등하게 빨라짐."
   ]
  },
  {
   "cell_type": "code",
   "execution_count": 5,
   "metadata": {},
   "outputs": [
    {
     "name": "stdout",
     "output_type": "stream",
     "text": [
      "naive loss: 2.295943e+00 computed in 0.133342s\n",
      "vectorized loss: 2.295943e+00 computed in 0.002645s\n",
      "Loss difference: 0.000000\n",
      "Gradient difference: 0.000000\n"
     ]
    }
   ],
   "source": [
    "# Now that we have a naive implementation of the softmax loss function and its gradient,\n",
    "# implement a vectorized version in softmax_loss_vectorized.\n",
    "# The two versions should compute the same results, but the vectorized version should be\n",
    "# much faster.\n",
    "tic = time.time()\n",
    "loss_naive, grad_naive = softmax_loss_naive(W, X_dev, y_dev, 0.000005)\n",
    "toc = time.time()\n",
    "print('naive loss: %e computed in %fs' % (loss_naive, toc - tic))\n",
    "\n",
    "from cs231n.classifiers.softmax import softmax_loss_vectorized\n",
    "tic = time.time()\n",
    "loss_vectorized, grad_vectorized = softmax_loss_vectorized(W, X_dev, y_dev, 0.000005)\n",
    "toc = time.time()\n",
    "print('vectorized loss: %e computed in %fs' % (loss_vectorized, toc - tic))\n",
    "\n",
    "# As we did for the SVM, we use the Frobenius norm to compare the two versions\n",
    "# of the gradient.\n",
    "grad_difference = np.linalg.norm(grad_naive - grad_vectorized, ord='fro')\n",
    "print('Loss difference: %f' % np.abs(loss_naive - loss_vectorized))\n",
    "print('Gradient difference: %f' % grad_difference)"
   ]
  },
  {
   "cell_type": "markdown",
   "metadata": {},
   "source": [
    "### 셀 6: Hyperparameter tuning\n",
    "\n",
    "**구현 문제 4**: 앞서 분할해 놓은 validation dataset을 이용하여 아래 셀에 Softmax loss를 기반으로 모델을 학습하면서, learning rate 및 regularization 가중치 등 hyperparameter를 최적화하는 코드를 구현하시오. \n",
    "\n",
    "지난 과제의 셀 11에서는 파일 `cs231n/classifiers/linear_classifier.py` 내에 정의된 LinearClassifier class의 두 가지 하위 클래스 중 LinearSVM 클래스의 객체를 생성하여, 여러분이 구현한 LinearClassifier.train() 함수를 호출하도록 하였음.\n",
    "이번 과제에서는 LinearClassifier class의 두 가지 하위 클래스 중 Softmax 클래스의 객체를 정의하고, 이를 기반으로 모델을 학습하는 과정을 활용함.\n",
    "\n",
    "더 상세한 내용은 아래 코드의 주석을 확인하시오."
   ]
  },
  {
   "cell_type": "code",
   "execution_count": 6,
   "metadata": {
    "id": "tuning",
    "tags": [
     "code"
    ]
   },
   "outputs": [
    {
     "name": "stdout",
     "output_type": "stream",
     "text": [
      "lr 1.000000e-07 reg 2.500000e+04 train accuracy: 0.329347 val accuracy: 0.343000\n",
      "lr 1.000000e-07 reg 5.000000e+04 train accuracy: 0.302469 val accuracy: 0.320000\n",
      "lr 5.000000e-07 reg 2.500000e+04 train accuracy: 0.332673 val accuracy: 0.349000\n",
      "lr 5.000000e-07 reg 5.000000e+04 train accuracy: 0.305510 val accuracy: 0.320000\n",
      "best validation accuracy achieved during cross-validation: 0.349000\n"
     ]
    }
   ],
   "source": [
    "# Use the validation set to tune hyperparameters (regularization strength and\n",
    "# learning rate). You should experiment with different ranges for the learning\n",
    "# rates and regularization strengths; if you are careful you should be able to\n",
    "# get a classification accuracy of over 0.35 on the validation set.\n",
    "\n",
    "from cs231n.classifiers import Softmax\n",
    "results = {}\n",
    "best_val = -1\n",
    "best_softmax = None\n",
    "\n",
    "################################################################################\n",
    "# TODO:                                                                        #\n",
    "# Use the validation set to set the learning rate and regularization strength. #\n",
    "# This should be identical to the validation that you did for the SVM; save    #\n",
    "# the best trained softmax classifer in best_softmax.                          #\n",
    "################################################################################\n",
    "\n",
    "# Provided as a reference. You may or may not want to change these hyperparameters\n",
    "learning_rates = [1e-7, 5e-7]\n",
    "regularization_strengths = [2.5e4, 5e4]\n",
    "iters = 1000\n",
    "# *****START OF YOUR CODE (DO NOT DELETE/MODIFY THIS LINE)*****\n",
    "for i in range(len(learning_rates)):\n",
    "    for j in range(len(regularization_strengths)):\n",
    "        #train\n",
    "        softmax = Softmax()\n",
    "        softmax.train(X_train, y_train, learning_rate=learning_rates[i], reg=regularization_strengths[j],num_iters=iters, verbose=False)\n",
    "        y_train_pred = softmax.predict(X_train)\n",
    "        y_val_pred = softmax.predict(X_val)\n",
    "        training_accuracy = np.mean(y_train == y_train_pred)\n",
    "        validation_accuracy = np.mean(y_val == y_val_pred)\n",
    "\n",
    "        # save data\n",
    "        results[(learning_rates[i], regularization_strengths[j])] = (training_accuracy, validation_accuracy)\n",
    "\n",
    "        # if best\n",
    "        if best_val < validation_accuracy:\n",
    "            best_val = validation_accuracy\n",
    "            best_softmax = softmax\n",
    "# *****END OF YOUR CODE (DO NOT DELETE/MODIFY THIS LINE)*****\n",
    "    \n",
    "# Print out results.\n",
    "for lr, reg in sorted(results):\n",
    "    train_accuracy, val_accuracy = results[(lr, reg)]\n",
    "    print('lr %e reg %e train accuracy: %f val accuracy: %f' % (\n",
    "                lr, reg, train_accuracy, val_accuracy))\n",
    "    \n",
    "print('best validation accuracy achieved during cross-validation: %f' % best_val)"
   ]
  },
  {
   "cell_type": "markdown",
   "metadata": {},
   "source": [
    "### 셀 7: test set에 대한 Softmax classifier 성능 확인\n",
    "\n",
    "학습된 softmax loss 기반의 linear classifier의 정확도를 test dataset에 대해서 측정하여 제시함."
   ]
  },
  {
   "cell_type": "code",
   "execution_count": 7,
   "metadata": {
    "id": "test"
   },
   "outputs": [
    {
     "name": "stdout",
     "output_type": "stream",
     "text": [
      "softmax on raw pixels final test set accuracy: 0.352000\n"
     ]
    }
   ],
   "source": [
    "# evaluate on test set\n",
    "# Evaluate the best softmax on test set\n",
    "y_test_pred = best_softmax.predict(X_test)\n",
    "test_accuracy = np.mean(y_test == y_test_pred)\n",
    "print('softmax on raw pixels final test set accuracy: %f' % (test_accuracy, ))"
   ]
  },
  {
   "cell_type": "markdown",
   "metadata": {
    "tags": [
     "pdf-inline"
    ]
   },
   "source": [
    "**서술 문제 2** - *아래 명제에 대해 참 or 거짓인지를 제시하시오.*\n",
    "\n",
    "전체 학습 loss는 모든 training example별 loss의 총합으로 정의함. 이때, 새로운 training example을 하나 추가할 때, multiclass SVM loss 값은 추가한 example 데이터의 특성에 따라 총 loss 값이 달라지지 않을수도 있지만, softmax loss에 대해서는 무조건 총 loss 값이 달라짐. \n",
    "\n",
    "$\\color{blue}{여러분의}$ $\\color{blue}{답:}$ 참\n",
    "\n",
    "\n",
    "$\\color{blue}{원인:}$  \n",
    "결국에 물어보는 것은 추가한 training example이 loss가 0이 될 수 있는가를 물어보는것입니다.\n",
    "\n",
    "svmloss는 실제 score 값에서 참인 label의 점수가 나머지보다 모두 1보다 커버리게 된다면 그 이미지에 대해서는 0이 되긴합니다. \n",
    "\n",
    "하지만 softmax는 cross entropy loss가 0이 되려면, 그이미지가 100퍼센트라고 예측을 해줘야합니다.  \n",
    "softmax는 A/(A+B) 꼴로 A는 실제 label에 대한 예측값이고 B는 다른 class에 대한 예측들의 합인데,  \n",
    "대충 계산해보니 2개의 클래스에 대해서 계산을 해볼때 실제 클래스와 각클래스의 내적 결과가 40정도 차이가 나줘야지 컴퓨터 상에서 0이 되는것을 확인할 수 있었습니다.(부동소숫점 오류때문이지 loss는 있습니다. 실제는 이 차이가 무한대가 되야 합니다.)\n",
    "즉 가능은하나 확률상 example을 조작하는것이 아니면 확률이 정말 낮다고 할 수 있고, class갯수가 많으면 많을수록 더더욱 확률상 말이 안됩니다.\n",
    "그러므로 loss 값은 무조건 증가한다고 해도 무방합니다.\n",
    "\n",
    "요약  \n",
    "svmloss 는 정답클래스랑 다른 클래스랑 내적값 차이가 1만 발생하면된다. -> 가능성이 어느정도 있다  \n",
    "softmax는 정답클래스랑 다른 클래스랑 내적값 차이가 40이상 발생해야한다. -> 가능성이 거의 없다"
   ]
  },
  {
   "cell_type": "code",
   "execution_count": 8,
   "metadata": {},
   "outputs": [
    {
     "name": "stdout",
     "output_type": "stream",
     "text": [
      "1.0\n",
      "-0.0\n"
     ]
    }
   ],
   "source": [
    "soft_max = np.exp(0)/(np.exp(0)+np.exp(-40)+np.exp(-40)+np.exp(-40)+np.exp(-40)+np.exp(-40)+np.exp(-40)+np.exp(-40)+np.exp(-40)+np.exp(-40))\n",
    "#soft_max = np.exp(0)/(np.exp(0)+np.exp(-30)+np.exp(-40)+np.exp(-40)+np.exp(-40)+np.exp(-40)+np.exp(-40)+np.exp(-40)+np.exp(-40)+np.exp(-40))\n",
    "print(soft_max)\n",
    "print(-np.log(soft_max))"
   ]
  },
  {
   "cell_type": "markdown",
   "metadata": {},
   "source": [
    "### 셀 8: 학습된 class 별 weight parameter 시각화\n",
    "\n",
    "아래 셀에서는 강의03 강의동영상(슬라이드 36번)에서 설명되었던 linear classifier의 시각적 이해 관점에서, 학습된 softmax loss 기반의 linear classifier의 class별 weight vector를 이미지로 시각화하여 제시함."
   ]
  },
  {
   "cell_type": "code",
   "execution_count": 14,
   "metadata": {},
   "outputs": [
    {
     "data": {
      "image/png": "[encoded data removed]",
      "text/plain": [
       "<Figure size 720x576 with 10 Axes>"
      ]
     },
     "metadata": {
      "needs_background": "light"
     },
     "output_type": "display_data"
    }
   ],
   "source": [
    "# Visualize the learned weights for each class\n",
    "w = best_softmax.W[:-1,:] # strip out the bias\n",
    "w = w.reshape(32, 32, 3, 10)\n",
    "\n",
    "w_min, w_max = np.min(w), np.max(w)\n",
    "\n",
    "classes = ['plane', 'car', 'bird', 'cat', 'deer', 'dog', 'frog', 'horse', 'ship', 'truck']\n",
    "for i in range(10):\n",
    "    plt.subplot(2, 5, i + 1)\n",
    "    \n",
    "    # Rescale the weights to be between 0 and 255\n",
    "    wimg = 255.0 * (w[:, :, :, i].squeeze() - w_min) / (w_max - w_min)\n",
    "    plt.imshow(wimg.astype('uint8'))\n",
    "    plt.axis('off')\n",
    "    plt.title(classes[i])"
   ]
  },
  {
   "cell_type": "code",
   "execution_count": null,
   "metadata": {},
   "outputs": [],
   "source": []
  }
 ],
 "metadata": {
  "kernelspec": {
   "display_name": "Python 3.8.10 64-bit",
   "language": "python",
   "name": "python3"
  },
  "language_info": {
   "codemirror_mode": {
    "name": "ipython",
    "version": 3
   },
   "file_extension": ".py",
   "mimetype": "text/x-python",
   "name": "python",
   "nbconvert_exporter": "python",
   "pygments_lexer": "ipython3",
   "version": "3.8.10"
  },
  "vscode": {
   "interpreter": {
    "hash": "916dbcbb3f70747c44a77c7bcd40155683ae19c65e1c03b4aa3499c5328201f1"
   }
  }
 },
 "nbformat": 4,
 "nbformat_minor": 4
}
